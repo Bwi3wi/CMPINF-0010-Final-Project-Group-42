{
 "cells": [
  {
   "cell_type": "markdown",
   "metadata": {},
   "source": [
    "# Team Member: Bruce Weis"
   ]
  },
  {
   "cell_type": "markdown",
   "metadata": {},
   "source": [
    "# Number of Fires by Neighborhood"
   ]
  },
  {
   "cell_type": "code",
   "execution_count": 77,
   "metadata": {},
   "outputs": [
    {
     "name": "stdout",
     "output_type": "stream",
     "text": [
      "neighborhood with least fires: Mount Oliver Borough\n",
      "neighborhood with most fires: Carrick\n"
     ]
    }
   ],
   "source": [
    "import pandas as pd\n",
    "import matplotlib.pyplot as plt\n",
    "from pprint import pprint\n",
    "\n",
    "fires = pd.read_table(\"Fire_Data.csv\", sep=\",\")\n",
    "neighborhoods = fires.groupby(\"neighborhood\")\n",
    "neighborhood_dict = neighborhoods.size().to_dict()\n",
    "\n",
    "#pprint(neighborhood_dict)\n",
    "print(\"neighborhood with least fires:\", min(neighborhood_dict, key=neighborhood_dict.get))\n",
    "print(\"neighborhood with most fires:\", max(neighborhood_dict, key=neighborhood_dict.get))"
   ]
  },
  {
   "cell_type": "markdown",
   "metadata": {},
   "source": [
    "# Types of Fires by Neighborhood"
   ]
  },
  {
   "cell_type": "code",
   "execution_count": 85,
   "metadata": {},
   "outputs": [
    {
     "name": "stdout",
     "output_type": "stream",
     "text": [
      "dict_keys(['Brush or brush-and-grass mixture fire', 'Building fire', 'Camper or recreational vehicle (RV) fire', 'Chimney or flue fire, confined to chimney or flue', 'Commercial Compactor fire, confined to rubbish', 'Construction or demolition landfill fire', 'Cooking fire, confined to container', 'Cultivated grain or crop fire', 'Cultivated trees or nursery stock fire', 'Cultivated vegetation, crop fire, Other', 'Dumpster or other outside trash receptacle fire', 'Fire in mobile home used as fixed residence', 'Fire in mobile prop used as a fixed struc, Other', 'Fire in motor home, camper, recreational vehicle', 'Fire in portable building, fixed location', 'Fire, Other', 'Fires in structure other than in a building', 'Forest, woods or wildland fire', 'Fuel burner/boiler malfunction, fire confined', 'Garbage dump or sanitary landfill fire', 'Grass fire', 'Incinerator overload or malfunction, fire confined', 'Mobile property (vehicle) fire, Other', 'Natural vegetation fire, Other', 'Off-road vehicle or heavy equipment fire', 'Outside equipment fire', 'Outside gas or vapor combustion explosion', 'Outside mailbox fire', 'Outside rubbish fire, Other', 'Outside rubbish, trash or waste fire', 'Outside stationary compactor/compacted trash fire', 'Outside storage fire', 'Passenger vehicle fire', 'Rail vehicle fire', 'Road freight or transport vehicle fire', 'Self-propelled motor home or recreational vehicle', 'Special outside fire, Other', 'Trash or rubbish fire, contained', 'Water vehicle fire'])\n",
      "neighborhood with least building fires: Glen Hazel\n",
      "neighborhood with most building fires: Carrick\n"
     ]
    }
   ],
   "source": [
    "fire_types = fires.groupby(\"type_description\")\n",
    "\n",
    "fire_dict = dict()\n",
    "for fire in fire_types:\n",
    "    elements = fire[1].groupby(\"neighborhood\")\n",
    "    fire_dict[fire[0]] = elements.size().to_dict()\n",
    "\n",
    "#pprint(fire_dict)\n",
    "pprint(fire_dict.keys())\n",
    "print(\"neighborhood with least building fires:\", min(fire_dict[\"Building fire\"], key=fire_dict[\"Building fire\"].get))\n",
    "print(\"neighborhood with most building fires:\", max(fire_dict[\"Building fire\"], key=fire_dict[\"Building fire\"].get))"
   ]
  },
  {
   "cell_type": "code",
   "execution_count": null,
   "metadata": {},
   "outputs": [],
   "source": []
  }
 ],
 "metadata": {
  "kernelspec": {
   "display_name": "Python 3",
   "language": "python",
   "name": "python3"
  },
  "language_info": {
   "codemirror_mode": {
    "name": "ipython",
    "version": 3
   },
   "file_extension": ".py",
   "mimetype": "text/x-python",
   "name": "python",
   "nbconvert_exporter": "python",
   "pygments_lexer": "ipython3",
   "version": "3.8.3"
  }
 },
 "nbformat": 4,
 "nbformat_minor": 4
}
